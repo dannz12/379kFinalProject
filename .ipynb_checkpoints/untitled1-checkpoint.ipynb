{
 "cells": [
  {
   "cell_type": "code",
   "execution_count": 27,
   "metadata": {
    "collapsed": false
   },
   "outputs": [
    {
     "data": {
      "text/plain": [
       "(32769L, 6L)"
      ]
     },
     "execution_count": 27,
     "metadata": {},
     "output_type": "execute_result"
    }
   ],
   "source": [
    "import pandas as pd\n",
    "from sklearn.cross_validation import train_test_split\n",
    "from sklearn import cross_validation\n",
    "from sklearn import linear_model\n",
    "from sklearn.metrics import mean_squared_error, accuracy_score\n",
    "import numpy as np\n",
    "from sklearn import svm, grid_search \n",
    "from sklearn import tree\n",
    "from sklearn.preprocessing import LabelEncoder\n",
    "%matplotlib inline\n",
    "\n",
    "data = pd.read_csv(\"train.csv\")\n",
    "data = data.drop(data.columns[[3,4,9]], axis=1)\n",
    "t = data.values[:,:1]\n",
    "x = data.values[:,1:]\n",
    "y = []\n",
    "\n",
    "for a in range(0,len(t)):\n",
    "    y.append(int(t[a][0]))\n",
    "#x = enc.fit_transform(x)\n",
    "x_train, x_test, y_train, y_test = train_test_split(x, y, test_size=0, random_state=42)\n",
    "x.shape"
   ]
  },
  {
   "cell_type": "code",
   "execution_count": 22,
   "metadata": {
    "collapsed": false
   },
   "outputs": [],
   "source": [
    "from sklearn import linear_model\n",
    "from sklearn import naive_bayes\n",
    "from sklearn.ensemble import RandomForestClassifier\n",
    "from sklearn.ensemble import GradientBoostingClassifier\n",
    "#clf1 = linear_model.LogisticRegression(n_jobs=-1)\n",
    "#clf = linear_model.ElasticNet()\n",
    "#clf = naive_bayes.GaussianNB()\n",
    "clf1 = RandomForestClassifier(n_estimators=20)\n",
    "#clf1 = GradientBoostingClassifier()\n",
    "clf1 = clf1.fit(x_train, y_train)\n",
    "#print clf.score(x_test,y_test)"
   ]
  },
  {
   "cell_type": "code",
   "execution_count": 23,
   "metadata": {
    "collapsed": true
   },
   "outputs": [],
   "source": [
    "clf2 = tree.DecisionTreeClassifier(splitter = 'random')\n",
    "clf2 = clf2.fit(x_train, y_train)"
   ]
  },
  {
   "cell_type": "code",
   "execution_count": null,
   "metadata": {
    "collapsed": false
   },
   "outputs": [],
   "source": [
    "clf3 = svm.SVC()\n",
    "clf3 = clf3.fit(x_train, y_train)"
   ]
  },
  {
   "cell_type": "code",
   "execution_count": 24,
   "metadata": {
    "collapsed": false
   },
   "outputs": [],
   "source": [
    "data = pd.read_csv(\"test.csv\")\n",
    "data = data.drop(data.columns[[3, 4,9]], axis=1)\n",
    "t = data.values[:,:1]\n",
    "x = data.values[:,1:]\n",
    "y=[]\n",
    "for a in range(0,len(t)):\n",
    "    y.append(int(t[a][0]))\n",
    "#x = enc.transform(x)"
   ]
  },
  {
   "cell_type": "code",
   "execution_count": null,
   "metadata": {
    "collapsed": false
   },
   "outputs": [],
   "source": [
    "pred1 = clf1.predict(x)\n",
    "pred2 = clf2.predict(x)\n",
    "pred3 = clf3.predict(x)\n",
    "pred = []\n",
    "for i in range (0,len(pred1)):\n",
    "    if(pred1[i]+pred2[i]+pred3[i]>=2):\n",
    "        pred.append(1)\n",
    "    else:\n",
    "        pred.append(0)"
   ]
  },
  {
   "cell_type": "code",
   "execution_count": 26,
   "metadata": {
    "collapsed": false
   },
   "outputs": [
    {
     "name": "stdout",
     "output_type": "stream",
     "text": [
      "58921\n"
     ]
    }
   ],
   "source": [
    "#df = clf.predict(x)\n",
    "pred1 = clf1.predict(x)\n",
    "pred2 = clf2.predict(x)\n",
    "print len(y)\n",
    "temp = []\n",
    "\n",
    "for i in range (0, len(pred1)):\n",
    "    a = []\n",
    "    a.append(y[i])\n",
    "    a.append(pred2[i])\n",
    "    temp.append(a)\n",
    "my_df = pd.DataFrame(temp)\n",
    "my_df.to_csv('testout.csv',index=False,header=['Id','Action'])"
   ]
  },
  {
   "cell_type": "code",
   "execution_count": null,
   "metadata": {
    "collapsed": true
   },
   "outputs": [],
   "source": []
  }
 ],
 "metadata": {
  "kernelspec": {
   "display_name": "Python 2",
   "language": "python",
   "name": "python2"
  },
  "language_info": {
   "codemirror_mode": {
    "name": "ipython",
    "version": 2
   },
   "file_extension": ".py",
   "mimetype": "text/x-python",
   "name": "python",
   "nbconvert_exporter": "python",
   "pygments_lexer": "ipython2",
   "version": "2.7.10"
  }
 },
 "nbformat": 4,
 "nbformat_minor": 0
}
