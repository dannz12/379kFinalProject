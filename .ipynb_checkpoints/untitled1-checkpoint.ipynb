{
 "cells": [
  {
   "cell_type": "code",
   "execution_count": 217,
   "metadata": {
    "collapsed": false
   },
   "outputs": [
    {
     "name": "stdout",
     "output_type": "stream",
     "text": [
      "(32769, 15626)\n",
      "58921\n"
     ]
    }
   ],
   "source": [
    "import pandas as pd\n",
    "from sklearn.cross_validation import train_test_split\n",
    "from sklearn import cross_validation\n",
    "from sklearn import linear_model\n",
    "from sklearn.metrics import mean_squared_error, accuracy_score\n",
    "import numpy as np\n",
    "from sklearn import svm, grid_search \n",
    "from sklearn import tree\n",
    "from sklearn.preprocessing import OneHotEncoder\n",
    "from sklearn.ensemble import AdaBoostClassifier\n",
    "from sklearn.cross_validation import cross_val_score\n",
    "%matplotlib inline\n",
    "\n",
    "full_data = pd.read_csv(\"train.csv\")\n",
    "data = full_data.drop(full_data.columns[[2,3,4,7,9]], axis=1)\n",
    "encoder = OneHotEncoder(handle_unknown='ignore')\n",
    "\n",
    "t = data.values[:,:1]\n",
    "data = full_data.drop(full_data.columns[[0]],axis=1)\n",
    "encoder.fit(data)\n",
    "data = encoder.transform(data)\n",
    "x = data\n",
    "#x = data.values[:,0:]\n",
    "print data.shape\n",
    "y = []\n",
    "\n",
    "for a in range(0,len(t)):\n",
    "    y.append(int(t[a][0]))\n",
    "#x = enc.fit_transform(x)\n",
    "#x_train, x_test, y_train, y_test = train_test_split(x, y, test_size=0, random_state=42)\n",
    "print(len(features[0][0]))"
   ]
  },
  {
   "cell_type": "code",
   "execution_count": 218,
   "metadata": {
    "collapsed": false
   },
   "outputs": [],
   "source": [
    "from sklearn import linear_model\n",
    "from sklearn import naive_bayes\n",
    "from sklearn.ensemble import RandomForestClassifier\n",
    "from sklearn.ensemble import BaggingClassifier\n",
    "from sklearn.linear_model import LogisticRegressionCV\n",
    "#clf1 = linear_model.LogisticRegression(n_jobs=-1)\n",
    "#clf = linear_model.ElasticNet()\n",
    "#clf = naive_bayes.GaussianNB()\n",
    "clf1 = RandomForestClassifier(n_estimators=200,warm_start = True)\n",
    "#clf1 = GradientBoostingClassifier()\n",
    "clf1 = clf1.fit(x, y)\n",
    "#print clf.score(x_test,y_test)"
   ]
  },
  {
   "cell_type": "code",
   "execution_count": 219,
   "metadata": {
    "collapsed": false
   },
   "outputs": [],
   "source": [
    "#currently getting .77\n",
    "clf2 = tree.DecisionTreeClassifier(splitter = 'best',class_weight = 'balanced')\n",
    "clf2 = clf2.fit(x, y)"
   ]
  },
  {
   "cell_type": "code",
   "execution_count": 220,
   "metadata": {
    "collapsed": false
   },
   "outputs": [],
   "source": [
    "clf3 = svm.SVC(class_weight = 'balanced',cache_size =2000,C=950,tol = .001)\n",
    "#clf3 = clf3.fit(x_train, y_train)0.82032\n",
    "#clf3 = LogisticRegression()\n",
    "#clf3 = LogisticRegression(penalty='l2', dual=False, tol=0.0001, C=1000, fit_intercept=True, intercept_scaling=100, \n",
    "                          #class_weight='balanced', random_state=None, solver='newton-cg', max_iter=1000, multi_class='ovr', \n",
    "                          #verbose=0, warm_start=False, n_jobs=1)\n",
    "clf3 = clf3.fit(x,y)"
   ]
  },
  {
   "cell_type": "code",
   "execution_count": 221,
   "metadata": {
    "collapsed": false
   },
   "outputs": [
    {
     "name": "stdout",
     "output_type": "stream",
     "text": [
      "(58921, 15626)\n"
     ]
    }
   ],
   "source": [
    "full_data = pd.read_csv(\"test.csv\")\n",
    "data = full_data.drop(full_data.columns[[2,3,4,7,9]], axis=1)\n",
    "\n",
    "\n",
    "i = 0\n",
    "for clf in clfs:\n",
    "    predT = clf.predict(features[i][0])\n",
    "    preds.append(predT)\n",
    "    i = i + 1\n",
    "t = data.values[:,:1]\n",
    "data = full_data.drop(full_data.columns[[0]],axis=1)\n",
    "data = encoder.transform(data)\n",
    "#x = data.values[:,0:]\n",
    "print data.shape\n",
    "x=data\n",
    "y=[]\n",
    "\n",
    "for a in range(0,len(t)):\n",
    "    y.append(int(t[a][0]))\n",
    "#x = enc.transform(x)"
   ]
  },
  {
   "cell_type": "code",
   "execution_count": 222,
   "metadata": {
    "collapsed": false
   },
   "outputs": [
    {
     "name": "stdout",
     "output_type": "stream",
     "text": [
      "derp\n"
     ]
    }
   ],
   "source": [
    "   \n",
    "pred1 = clf1.predict(x)\n",
    "pred2 = clf2.predict(x)\n",
    "pred3 = clf3.predict(x)\n",
    "#scores.predict(x)\n",
    "pred = []\n",
    "for i in range (0,len(pred1)):\n",
    "    if(pred1[i]+pred2[i]>=2):\n",
    "        pred.append(1)\n",
    "    else:\n",
    "        pred.append(0)\n",
    "        \n",
    "temp = []\n",
    "\n",
    "for i in range (0, len(pred1)):\n",
    "    a = []\n",
    "    a.append(y[i])\n",
    "    a.append(pred3[i])\n",
    "    temp.append(a)\n",
    "my_df = pd.DataFrame(temp)\n",
    "my_df.to_csv('testout.csv',index=False,header=['Id','Action'])\n",
    "print 'derp'"
   ]
  },
  {
   "cell_type": "code",
   "execution_count": null,
   "metadata": {
    "collapsed": false
   },
   "outputs": [],
   "source": [
    "final =[]\n",
    "for i in range(0,len(preds[0])):\n",
    "    val = 0\n",
    "    for j in range(0,10):\n",
    "        if(j == 0):\n",
    "            val = val + 2*preds[j][i]\n",
    "        else:\n",
    "            val = val + preds[j][i]\n",
    "    if(val >= 6):\n",
    "        final.append(1)\n",
    "    else:\n",
    "        final.append(0)\n",
    "\n",
    "temp = []\n",
    "\n",
    "for i in range (0, len(pred1)):\n",
    "    a = []\n",
    "    a.append(y[i])\n",
    "    a.append(final[i])\n",
    "    temp.append(a)\n",
    "my_df = pd.DataFrame(temp)\n",
    "my_df.to_csv('testout.csv',index=False,header=['Id','Action'])"
   ]
  },
  {
   "cell_type": "code",
   "execution_count": null,
   "metadata": {
    "collapsed": true
   },
   "outputs": [],
   "source": []
  },
  {
   "cell_type": "code",
   "execution_count": null,
   "metadata": {
    "collapsed": true
   },
   "outputs": [],
   "source": []
  }
 ],
 "metadata": {
  "kernelspec": {
   "display_name": "Python 2",
   "language": "python",
   "name": "python2"
  },
  "language_info": {
   "codemirror_mode": {
    "name": "ipython",
    "version": 2
   },
   "file_extension": ".py",
   "mimetype": "text/x-python",
   "name": "python",
   "nbconvert_exporter": "python",
   "pygments_lexer": "ipython2",
   "version": "2.7.10"
  }
 },
 "nbformat": 4,
 "nbformat_minor": 0
}
