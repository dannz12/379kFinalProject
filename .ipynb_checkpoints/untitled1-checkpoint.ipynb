{
 "cells": [
  {
   "cell_type": "code",
   "execution_count": 7,
   "metadata": {
    "collapsed": false
   },
   "outputs": [
    {
     "name": "stdout",
     "output_type": "stream",
     "text": [
      "32769\n"
     ]
    }
   ],
   "source": [
    "import pandas as pd\n",
    "from sklearn.cross_validation import train_test_split\n",
    "from sklearn import cross_validation\n",
    "from sklearn import linear_model\n",
    "from sklearn.metrics import mean_squared_error, accuracy_score\n",
    "import numpy as np\n",
    "from sklearn import svm, grid_search \n",
    "from sklearn import tree\n",
    "from sklearn.preprocessing import LabelEncoder\n",
    "from sklearn.ensemble import AdaBoostClassifier\n",
    "from sklearn.cross_validation import cross_val_score\n",
    "%matplotlib inline\n",
    "\n",
    "full_data = pd.read_csv(\"train.csv\")\n",
    "data = full_data#.drop(full_data.columns[[9]], axis=1)\n",
    "\n",
    "'''\n",
    "encoder = LabelEncoder()\n",
    "columns = data.columns\n",
    "for col in columns:\n",
    "    print(\"before:\",data[col])\n",
    "    encoder.fit(data[col])\n",
    "    data[col] = encoder.transform(data[col])\n",
    "    print(\"after\",data[col])\n",
    "'''\n",
    "features = []\n",
    "\n",
    "cols = [[1,2,5], [1,2,6], [1,2,7], [1,2,8], [1,5,6], [1,5,7], [1, 5, 8], [1,6,7], [1,7,8], [1,6,8]]\n",
    "for col in cols:\n",
    "    arr = set(range(10))\n",
    "    arr = arr - set(col)\n",
    "    arr = list(arr)\n",
    "    dfTemp = full_data.drop(full_data.columns[arr], axis=1)\n",
    "    features.append((dfTemp, col))\n",
    "    \n",
    "t = data.values[:,:1]\n",
    "x = data.values[:,1:]\n",
    "y = []\n",
    "\n",
    "for a in range(0,len(t)):\n",
    "    y.append(int(t[a][0]))\n",
    "#x = enc.fit_transform(x)\n",
    "#x_train, x_test, y_train, y_test = train_test_split(x, y, test_size=0, random_state=42)\n",
    "print(len(features[0][0]))\n",
    "clfs = []\n",
    "for feat in features:\n",
    "    clfT = tree.DecisionTreeClassifier(splitter = 'random')\n",
    "    clfT = clfT.fit(feat[0], y)\n",
    "    clfs.append(clfT)\n"
   ]
  },
  {
   "cell_type": "code",
   "execution_count": 8,
   "metadata": {
    "collapsed": false
   },
   "outputs": [],
   "source": [
    "from sklearn import linear_model\n",
    "from sklearn import naive_bayes\n",
    "from sklearn.ensemble import RandomForestClassifier\n",
    "from sklearn.ensemble import GradientBoostingClassifier\n",
    "from sklearn.linear_model import LogisticRegression\n",
    "#clf1 = linear_model.LogisticRegression(n_jobs=-1)\n",
    "#clf = linear_model.ElasticNet()\n",
    "#clf = naive_bayes.GaussianNB()\n",
    "clf1 = RandomForestClassifier(n_estimators=20,oob_score=True, bootstrap=True,warm_start = True)\n",
    "#clf1 = GradientBoostingClassifier()\n",
    "clf1 = clf1.fit(x, y)\n",
    "#print clf.score(x_test,y_test)"
   ]
  },
  {
   "cell_type": "code",
   "execution_count": 9,
   "metadata": {
    "collapsed": false
   },
   "outputs": [],
   "source": [
    "#currently getting .72, Set max depth to 25\n",
    "clf2 = tree.DecisionTreeClassifier(splitter = 'random',class_weight = 'balanced',random_state=20000,max_depth = 25,max_features =6)\n",
    "clf2 = clf2.fit(x, y)"
   ]
  },
  {
   "cell_type": "code",
   "execution_count": 10,
   "metadata": {
    "collapsed": false
   },
   "outputs": [],
   "source": [
    "#clf3 = svm.SVC(class_weight = 'balanced',decision_function_shape ='ovr',cache_size = 2000,C=10)\n",
    "#clf3 = clf3.fit(x_train, y_train)\n",
    "#clf3 = AdaBoostClassifier(base_estimator=clf1, n_estimators=50,learning_rate = .0000000001)\n",
    "clf3 = LogisticRegression(class_weight='balanced')\n",
    "clf3 = clf3.fit(x,y)"
   ]
  },
  {
   "cell_type": "code",
   "execution_count": 11,
   "metadata": {
    "collapsed": false
   },
   "outputs": [],
   "source": [
    "full_data = pd.read_csv(\"test.csv\")\n",
    "data = full_data.drop(full_data.columns[[3,4,9]], axis=1)\n",
    "\n",
    "'''\n",
    "columns = data.columns\n",
    "flag = 0\n",
    "for col in columns:\n",
    "    if flag == 0:\n",
    "        flag += 1\n",
    "        break\n",
    "    encoder.fit(data[col])\n",
    "    data[col] = encoder.transform(data[col])\n",
    "'''\n",
    "features = []\n",
    "cols = [[1,2,5], [1,2,6], [1,2,7], [1,2,8], [1,5,6], [1,5,7], [1, 5, 8], [1,6,7], [1,7,8], [1,6,8]]\n",
    "for col in cols:\n",
    "    arr = set(range(10))\n",
    "    arr = arr - set(col)\n",
    "    arr = list(arr)\n",
    "    dfTemp = full_data.drop(full_data.columns[arr], axis=1)\n",
    "    features.append((dfTemp, col))\n",
    "preds = []\n",
    "i = 0\n",
    "for clf in clfs:\n",
    "    predT = clf.predict(features[i][0])\n",
    "    preds.append(predT)\n",
    "    i = i + 1\n",
    "t = data.values[:,:1]\n",
    "x = data.values[:,1:]\n",
    "y=[]\n",
    "\n",
    "for a in range(0,len(t)):\n",
    "    y.append(int(t[a][0]))\n",
    "#x = enc.transform(x)"
   ]
  },
  {
   "cell_type": "code",
   "execution_count": 13,
   "metadata": {
    "collapsed": false
   },
   "outputs": [
    {
     "name": "stdout",
     "output_type": "stream",
     "text": [
      "derp\n"
     ]
    }
   ],
   "source": [
    "full_data = pd.read_csv(\"test.csv\")\n",
    "data = full_data#.drop(full_data.columns[[9]], axis=1)\n",
    "t = data.values[:,:1]\n",
    "x = data.values[:,1:]\n",
    "y=[]\n",
    "\n",
    "for a in range(0,len(t)):\n",
    "    y.append(int(t[a][0]))\n",
    "    \n",
    "pred1 = clf1.predict(x)\n",
    "pred2 = clf2.predict(x)\n",
    "pred3 = clf3.predict(x)\n",
    "#scores.predict(x)\n",
    "pred = []\n",
    "for i in range (0,len(pred1)):\n",
    "    if(pred1[i]+pred2[i]>=2):\n",
    "        pred.append(1)\n",
    "    else:\n",
    "        pred.append(0)\n",
    "        \n",
    "temp = []\n",
    "\n",
    "for i in range (0, len(pred1)):\n",
    "    a = []\n",
    "    a.append(y[i])\n",
    "    a.append(pred3[i])\n",
    "    temp.append(a)\n",
    "my_df = pd.DataFrame(temp)\n",
    "my_df.to_csv('testout.csv',index=False,header=['Id','Action'])\n",
    "print 'derp'"
   ]
  },
  {
   "cell_type": "code",
   "execution_count": null,
   "metadata": {
    "collapsed": false
   },
   "outputs": [],
   "source": [
    "final =[]\n",
    "for i in range(0,len(preds[0])):\n",
    "    val = 0\n",
    "    for j in range(0,10):\n",
    "        if(j == 0):\n",
    "            val = val + 2*preds[j][i]\n",
    "        else:\n",
    "            val = val + preds[j][i]\n",
    "    if(val >= 6):\n",
    "        final.append(1)\n",
    "    else:\n",
    "        final.append(0)\n",
    "\n",
    "temp = []\n",
    "\n",
    "for i in range (0, len(pred1)):\n",
    "    a = []\n",
    "    a.append(y[i])\n",
    "    a.append(final[i])\n",
    "    temp.append(a)\n",
    "my_df = pd.DataFrame(temp)\n",
    "my_df.to_csv('testout.csv',index=False,header=['Id','Action'])"
   ]
  },
  {
   "cell_type": "code",
   "execution_count": null,
   "metadata": {
    "collapsed": true
   },
   "outputs": [],
   "source": []
  },
  {
   "cell_type": "code",
   "execution_count": null,
   "metadata": {
    "collapsed": true
   },
   "outputs": [],
   "source": []
  }
 ],
 "metadata": {
  "kernelspec": {
   "display_name": "Python 2",
   "language": "python",
   "name": "python2"
  },
  "language_info": {
   "codemirror_mode": {
    "name": "ipython",
    "version": 2
   },
   "file_extension": ".py",
   "mimetype": "text/x-python",
   "name": "python",
   "nbconvert_exporter": "python",
   "pygments_lexer": "ipython2",
   "version": "2.7.10"
  }
 },
 "nbformat": 4,
 "nbformat_minor": 0
}
